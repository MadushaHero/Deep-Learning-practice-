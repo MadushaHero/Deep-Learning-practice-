{
 "cells": [
  {
   "cell_type": "code",
   "execution_count": 65,
   "id": "44b67ef7",
   "metadata": {},
   "outputs": [],
   "source": [
    "import numpy as np\n",
    "from tensorflow.keras.preprocessing.text import one_hot\n",
    "from tensorflow.keras.preprocessing.sequence import pad_sequences\n",
    "from tensorflow.keras.models import Sequential\n",
    "from tensorflow.keras.layers import Dense\n",
    "from tensorflow.keras.layers import Flatten\n",
    "from tensorflow.keras.layers import Embedding\n",
    "\n",
    "reviews = ['nice food',\n",
    "        'amazing restaurant',\n",
    "        'too good',\n",
    "        'just loved it!',\n",
    "        'will go again',\n",
    "        'horrible food',\n",
    "        'never go there',\n",
    "        'poor service',\n",
    "        'poor quality',\n",
    "        'needs improvement']\n",
    "\n",
    "sentiment = np.array([1,1,1,1,1,0,0,0,0,0])"
   ]
  },
  {
   "cell_type": "code",
   "execution_count": 66,
   "id": "e63fc1c4",
   "metadata": {},
   "outputs": [],
   "source": [
    "#one_hot(\"amazing restaurant\",300)"
   ]
  },
  {
   "cell_type": "code",
   "execution_count": 67,
   "id": "f6b0a672",
   "metadata": {},
   "outputs": [
    {
     "data": {
      "text/plain": [
       "[15, 22]"
      ]
     },
     "execution_count": 67,
     "metadata": {},
     "output_type": "execute_result"
    }
   ],
   "source": [
    "one_hot(\"amazing restaurant\",30)"
   ]
  },
  {
   "cell_type": "code",
   "execution_count": 68,
   "id": "a56a98ac",
   "metadata": {},
   "outputs": [
    {
     "name": "stdout",
     "output_type": "stream",
     "text": [
      "[[21, 17], [15, 22], [3, 8], [9, 21, 23], [28, 25, 5], [15, 17], [13, 25, 7], [9, 13], [9, 17], [21, 1]]\n"
     ]
    }
   ],
   "source": [
    "\n",
    "vocab_size = 30\n",
    "encoded_reviews = [one_hot(d, vocab_size) for d in reviews]\n",
    "print(encoded_reviews)"
   ]
  },
  {
   "cell_type": "code",
   "execution_count": 69,
   "id": "f568e97d",
   "metadata": {},
   "outputs": [
    {
     "name": "stdout",
     "output_type": "stream",
     "text": [
      "[[21 17  0  0]\n",
      " [15 22  0  0]\n",
      " [ 3  8  0  0]\n",
      " [ 9 21 23  0]\n",
      " [28 25  5  0]\n",
      " [15 17  0  0]\n",
      " [13 25  7  0]\n",
      " [ 9 13  0  0]\n",
      " [ 9 17  0  0]\n",
      " [21  1  0  0]]\n"
     ]
    }
   ],
   "source": [
    "max_length = 4\n",
    "padded_reviews = pad_sequences(encoded_reviews, maxlen=max_length, padding='post')\n",
    "print(padded_reviews)"
   ]
  },
  {
   "cell_type": "code",
   "execution_count": 70,
   "id": "04735f85",
   "metadata": {},
   "outputs": [],
   "source": [
    "embeded_vector_size = 5\n",
    "model = Sequential()\n",
    "model.add(Embedding(vocab_size, embeded_vector_size, input_length=max_length,name=\"embedding\"))\n",
    "model.add(Flatten())\n",
    "model.add(Dense(1, activation='sigmoid'))"
   ]
  },
  {
   "cell_type": "code",
   "execution_count": 71,
   "id": "84d3df3c",
   "metadata": {},
   "outputs": [],
   "source": [
    "X = padded_reviews\n",
    "y = sentiment\n"
   ]
  },
  {
   "cell_type": "code",
   "execution_count": 72,
   "id": "84ec2c2e",
   "metadata": {},
   "outputs": [
    {
     "name": "stdout",
     "output_type": "stream",
     "text": [
      "Model: \"sequential_7\"\n",
      "_________________________________________________________________\n",
      " Layer (type)                Output Shape              Param #   \n",
      "=================================================================\n",
      " embedding (Embedding)       (None, 4, 5)              150       \n",
      "                                                                 \n",
      " flatten_7 (Flatten)         (None, 20)                0         \n",
      "                                                                 \n",
      " dense_7 (Dense)             (None, 1)                 21        \n",
      "                                                                 \n",
      "=================================================================\n",
      "Total params: 171\n",
      "Trainable params: 171\n",
      "Non-trainable params: 0\n",
      "_________________________________________________________________\n",
      "None\n"
     ]
    }
   ],
   "source": [
    "model.compile(optimizer='adam', loss='binary_crossentropy', metrics=['accuracy'])\n",
    "print(model.summary())"
   ]
  },
  {
   "cell_type": "code",
   "execution_count": 73,
   "id": "f0faa745",
   "metadata": {},
   "outputs": [
    {
     "data": {
      "text/plain": [
       "<keras.callbacks.History at 0x22e78dded30>"
      ]
     },
     "execution_count": 73,
     "metadata": {},
     "output_type": "execute_result"
    }
   ],
   "source": [
    "model.fit(X, y, epochs=50, verbose=0)"
   ]
  },
  {
   "cell_type": "code",
   "execution_count": 74,
   "id": "439c7ec6",
   "metadata": {},
   "outputs": [
    {
     "name": "stdout",
     "output_type": "stream",
     "text": [
      "WARNING:tensorflow:5 out of the last 7 calls to <function Model.make_test_function.<locals>.test_function at 0x0000022E78E16DC0> triggered tf.function retracing. Tracing is expensive and the excessive number of tracings could be due to (1) creating @tf.function repeatedly in a loop, (2) passing tensors with different shapes, (3) passing Python objects instead of tensors. For (1), please define your @tf.function outside of the loop. For (2), @tf.function has reduce_retracing=True option that can avoid unnecessary retracing. For (3), please refer to https://www.tensorflow.org/guide/function#controlling_retracing and https://www.tensorflow.org/api_docs/python/tf/function for  more details.\n",
      "1/1 [==============================] - 0s 143ms/step - loss: 0.6347 - accuracy: 0.9000\n"
     ]
    },
    {
     "data": {
      "text/plain": [
       "0.8999999761581421"
      ]
     },
     "execution_count": 74,
     "metadata": {},
     "output_type": "execute_result"
    }
   ],
   "source": [
    "# evaluate the model\n",
    "loss, accuracy = model.evaluate(X, y)\n",
    "accuracy"
   ]
  },
  {
   "cell_type": "code",
   "execution_count": 75,
   "id": "fa463fed",
   "metadata": {},
   "outputs": [
    {
     "data": {
      "text/plain": [
       "array([[-0.0328028 ,  0.06114512, -0.05735191, -0.06639051,  0.00064595],\n",
       "       [-0.00244514, -0.0240403 ,  0.07820133, -0.04792291, -0.08840193],\n",
       "       [-0.03177239, -0.00066831,  0.00531135, -0.03850002,  0.00816268],\n",
       "       [-0.08057194, -0.08359583,  0.09778819,  0.09510282, -0.00340468],\n",
       "       [ 0.0164862 , -0.00626834, -0.01152631, -0.01905786, -0.04731256],\n",
       "       [ 0.00623542, -0.0333962 ,  0.07539998,  0.01100754, -0.09307864],\n",
       "       [-0.01776654, -0.02758559, -0.00628362,  0.04169183, -0.00455416],\n",
       "       [ 0.00200538,  0.07618485, -0.01194313, -0.00652394,  0.10069363],\n",
       "       [ 0.05188655,  0.09742997, -0.06441776,  0.06688541, -0.00068397],\n",
       "       [ 0.09407728,  0.06060587, -0.03860226, -0.08032716,  0.02019849],\n",
       "       [ 0.03345687, -0.0462781 ,  0.0336448 , -0.04973434, -0.00267377],\n",
       "       [ 0.01766907, -0.02889105,  0.01583396, -0.0287753 , -0.04860714],\n",
       "       [ 0.04373672, -0.03422838,  0.00580387, -0.04347476,  0.03157309],\n",
       "       [-0.07776693, -0.05678946, -0.02123043, -0.06129035,  0.07416862],\n",
       "       [-0.02353109, -0.01860631,  0.02007372,  0.01356691, -0.01121423],\n",
       "       [-0.01358322,  0.05594221,  0.00515507,  0.00155681,  0.03932175],\n",
       "       [-0.04879241, -0.01603985, -0.00041213, -0.03319957, -0.01454042],\n",
       "       [-0.01019224, -0.04491784,  0.08061903, -0.09617597, -0.02286991],\n",
       "       [-0.03068998,  0.04139266,  0.04033996, -0.00813473,  0.04895643],\n",
       "       [-0.01533185,  0.04952296, -0.03491415,  0.00328913,  0.00513219],\n",
       "       [-0.0137307 , -0.04454295,  0.00334045, -0.00348941,  0.04818456],\n",
       "       [ 0.02210413,  0.03561218, -0.03474716,  0.01363839,  0.08541862],\n",
       "       [ 0.01611021,  0.04971828, -0.08572913,  0.09292778, -0.00066909],\n",
       "       [ 0.07062376, -0.06132515,  0.07625679,  0.01448913, -0.0652588 ],\n",
       "       [ 0.04012886, -0.02223969, -0.00238393, -0.04476991,  0.01901769],\n",
       "       [-0.0309891 , -0.01313462,  0.10417117, -0.04253329, -0.02320401],\n",
       "       [ 0.04111499,  0.04369732, -0.02464515,  0.0304823 ,  0.0393346 ],\n",
       "       [ 0.01902672,  0.04945358,  0.04915525, -0.02250885, -0.02546128],\n",
       "       [-0.02883668, -0.06835802,  0.0452512 ,  0.04367086, -0.09488762],\n",
       "       [ 0.04106346,  0.04925385, -0.0084648 , -0.04329541,  0.0121283 ]],\n",
       "      dtype=float32)"
      ]
     },
     "execution_count": 75,
     "metadata": {},
     "output_type": "execute_result"
    }
   ],
   "source": [
    " model.get_layer('embedding').get_weights()[0]"
   ]
  },
  {
   "cell_type": "code",
   "execution_count": 76,
   "id": "0344577b",
   "metadata": {},
   "outputs": [
    {
     "data": {
      "text/plain": [
       "30"
      ]
     },
     "execution_count": 76,
     "metadata": {},
     "output_type": "execute_result"
    }
   ],
   "source": [
    "weights = model.get_layer('embedding').get_weights()[0]\n",
    "len(weights)"
   ]
  },
  {
   "cell_type": "code",
   "execution_count": 77,
   "id": "9e7c4ab3",
   "metadata": {},
   "outputs": [
    {
     "data": {
      "text/plain": [
       "array([ 0.01766907, -0.02889105,  0.01583396, -0.0287753 , -0.04860714],\n",
       "      dtype=float32)"
      ]
     },
     "execution_count": 77,
     "metadata": {},
     "output_type": "execute_result"
    }
   ],
   "source": [
    "weights[11]"
   ]
  },
  {
   "cell_type": "code",
   "execution_count": 78,
   "id": "bc5e9b68",
   "metadata": {},
   "outputs": [
    {
     "data": {
      "text/plain": [
       "array([-0.08057194, -0.08359583,  0.09778819,  0.09510282, -0.00340468],\n",
       "      dtype=float32)"
      ]
     },
     "execution_count": 78,
     "metadata": {},
     "output_type": "execute_result"
    }
   ],
   "source": [
    "weights[3]"
   ]
  },
  {
   "cell_type": "code",
   "execution_count": null,
   "id": "a25078a9",
   "metadata": {},
   "outputs": [],
   "source": []
  }
 ],
 "metadata": {
  "kernelspec": {
   "display_name": "Python 3 (ipykernel)",
   "language": "python",
   "name": "python3"
  },
  "language_info": {
   "codemirror_mode": {
    "name": "ipython",
    "version": 3
   },
   "file_extension": ".py",
   "mimetype": "text/x-python",
   "name": "python",
   "nbconvert_exporter": "python",
   "pygments_lexer": "ipython3",
   "version": "3.9.7"
  }
 },
 "nbformat": 4,
 "nbformat_minor": 5
}
