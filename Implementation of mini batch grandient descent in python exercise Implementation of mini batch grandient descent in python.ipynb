{
 "cells": [
  {
   "cell_type": "code",
   "execution_count": 1,
   "id": "fff06af1",
   "metadata": {},
   "outputs": [],
   "source": [
    "import pandas as pd\n",
    "import numpy as np\n",
    "from matplotlib import pyplot as plt\n",
    "%matplotlib inline"
   ]
  },
  {
   "cell_type": "code",
   "execution_count": 2,
   "id": "a709dbe7",
   "metadata": {},
   "outputs": [
    {
     "data": {
      "text/html": [
       "<div>\n",
       "<style scoped>\n",
       "    .dataframe tbody tr th:only-of-type {\n",
       "        vertical-align: middle;\n",
       "    }\n",
       "\n",
       "    .dataframe tbody tr th {\n",
       "        vertical-align: top;\n",
       "    }\n",
       "\n",
       "    .dataframe thead th {\n",
       "        text-align: right;\n",
       "    }\n",
       "</style>\n",
       "<table border=\"1\" class=\"dataframe\">\n",
       "  <thead>\n",
       "    <tr style=\"text-align: right;\">\n",
       "      <th></th>\n",
       "      <th>area</th>\n",
       "      <th>bedrooms</th>\n",
       "      <th>price</th>\n",
       "    </tr>\n",
       "  </thead>\n",
       "  <tbody>\n",
       "    <tr>\n",
       "      <th>19</th>\n",
       "      <td>800</td>\n",
       "      <td>1</td>\n",
       "      <td>32.0</td>\n",
       "    </tr>\n",
       "    <tr>\n",
       "      <th>15</th>\n",
       "      <td>1175</td>\n",
       "      <td>2</td>\n",
       "      <td>42.0</td>\n",
       "    </tr>\n",
       "    <tr>\n",
       "      <th>7</th>\n",
       "      <td>3300</td>\n",
       "      <td>4</td>\n",
       "      <td>155.0</td>\n",
       "    </tr>\n",
       "    <tr>\n",
       "      <th>10</th>\n",
       "      <td>1800</td>\n",
       "      <td>3</td>\n",
       "      <td>82.0</td>\n",
       "    </tr>\n",
       "    <tr>\n",
       "      <th>11</th>\n",
       "      <td>2785</td>\n",
       "      <td>4</td>\n",
       "      <td>140.0</td>\n",
       "    </tr>\n",
       "  </tbody>\n",
       "</table>\n",
       "</div>"
      ],
      "text/plain": [
       "    area  bedrooms  price\n",
       "19   800         1   32.0\n",
       "15  1175         2   42.0\n",
       "7   3300         4  155.0\n",
       "10  1800         3   82.0\n",
       "11  2785         4  140.0"
      ]
     },
     "execution_count": 2,
     "metadata": {},
     "output_type": "execute_result"
    }
   ],
   "source": [
    "df = pd.read_csv(\"homeprices_banglore.csv\")\n",
    "df.sample(5)"
   ]
  },
  {
   "cell_type": "code",
   "execution_count": 3,
   "id": "34886361",
   "metadata": {},
   "outputs": [],
   "source": [
    "from sklearn import preprocessing\n",
    "sx = preprocessing.MinMaxScaler()\n",
    "sy = preprocessing.MinMaxScaler()"
   ]
  },
  {
   "cell_type": "code",
   "execution_count": 4,
   "id": "14b5ccbd",
   "metadata": {},
   "outputs": [],
   "source": [
    "scaled_X = sx.fit_transform(df.drop('price',axis='columns'))"
   ]
  },
  {
   "cell_type": "code",
   "execution_count": 5,
   "id": "1af9da07",
   "metadata": {},
   "outputs": [],
   "source": [
    "scaled_y = sy.fit_transform(df['price'].values.reshape(df.shape[0],1))"
   ]
  },
  {
   "cell_type": "code",
   "execution_count": 6,
   "id": "1a555ffa",
   "metadata": {},
   "outputs": [
    {
     "data": {
      "text/plain": [
       "array([[0.08827586, 0.25      ],\n",
       "       [0.62068966, 0.75      ],\n",
       "       [0.22068966, 0.5       ],\n",
       "       [0.24862069, 0.5       ],\n",
       "       [0.13793103, 0.25      ],\n",
       "       [0.12758621, 0.25      ],\n",
       "       [0.6662069 , 0.75      ],\n",
       "       [0.86206897, 0.75      ],\n",
       "       [0.17586207, 0.5       ],\n",
       "       [1.        , 1.        ],\n",
       "       [0.34482759, 0.5       ],\n",
       "       [0.68448276, 0.75      ],\n",
       "       [0.06896552, 0.25      ],\n",
       "       [0.10344828, 0.25      ],\n",
       "       [0.5       , 0.5       ],\n",
       "       [0.12931034, 0.25      ],\n",
       "       [0.13103448, 0.5       ],\n",
       "       [0.25517241, 0.5       ],\n",
       "       [0.67931034, 0.5       ],\n",
       "       [0.        , 0.        ]])"
      ]
     },
     "execution_count": 6,
     "metadata": {},
     "output_type": "execute_result"
    }
   ],
   "source": [
    "scaled_X"
   ]
  },
  {
   "cell_type": "code",
   "execution_count": 7,
   "id": "d2f52c18",
   "metadata": {},
   "outputs": [
    {
     "data": {
      "text/plain": [
       "array([[0.05237037],\n",
       "       [0.65185185],\n",
       "       [0.22222222],\n",
       "       [0.31851852],\n",
       "       [0.14074074],\n",
       "       [0.04444444],\n",
       "       [0.76296296],\n",
       "       [0.91111111],\n",
       "       [0.13333333],\n",
       "       [1.        ],\n",
       "       [0.37037037],\n",
       "       [0.8       ],\n",
       "       [0.04444444],\n",
       "       [0.05925926],\n",
       "       [0.51111111],\n",
       "       [0.07407407],\n",
       "       [0.11851852],\n",
       "       [0.20740741],\n",
       "       [0.51851852],\n",
       "       [0.        ]])"
      ]
     },
     "execution_count": 7,
     "metadata": {},
     "output_type": "execute_result"
    }
   ],
   "source": [
    "scaled_y"
   ]
  },
  {
   "cell_type": "code",
   "execution_count": 8,
   "id": "fc4e90ca",
   "metadata": {},
   "outputs": [
    {
     "data": {
      "text/plain": [
       "array([1., 1.])"
      ]
     },
     "execution_count": 8,
     "metadata": {},
     "output_type": "execute_result"
    }
   ],
   "source": [
    "np.ones(shape=(2))"
   ]
  },
  {
   "cell_type": "code",
   "execution_count": 9,
   "id": "e3a4bc23",
   "metadata": {},
   "outputs": [
    {
     "data": {
      "text/plain": [
       "array([18,  6, 13, 16, 17, 10, 14,  0,  4,  5,  2,  3, 12,  9, 19, 15,  8,\n",
       "       11,  7,  1])"
      ]
     },
     "execution_count": 9,
     "metadata": {},
     "output_type": "execute_result"
    }
   ],
   "source": [
    "np.random.permutation(20)"
   ]
  },
  {
   "cell_type": "code",
   "execution_count": 10,
   "id": "9804ea46",
   "metadata": {},
   "outputs": [
    {
     "data": {
      "text/plain": [
       "(array([0.70990085, 0.67806557]), -0.233270324587699, 0.0034527979784009745)"
      ]
     },
     "execution_count": 10,
     "metadata": {},
     "output_type": "execute_result"
    }
   ],
   "source": [
    "def mini_batch_gradient_descent(X, y_true, epochs = 100, batch_size = 5, learning_rate = 0.01):\n",
    "    \n",
    "    number_of_features = X.shape[1]\n",
    "    # numpy array with 1 row and columns equal to number of features. In \n",
    "    # our case number_of_features = 3 (area, bedroom and age)\n",
    "    w = np.ones(shape=(number_of_features)) \n",
    "    b = 0\n",
    "    total_samples = X.shape[0] # number of rows in X\n",
    "    \n",
    "    if batch_size > total_samples: # In this case mini batch becomes same as batch gradient descent\n",
    "        batch_size = total_samples\n",
    "        \n",
    "    cost_list = []\n",
    "    epoch_list = []\n",
    "    \n",
    "    num_batches = int(total_samples/batch_size)\n",
    "    \n",
    "    for i in range(epochs):    \n",
    "        random_indices = np.random.permutation(total_samples)\n",
    "        X_tmp = X[random_indices]\n",
    "        y_tmp = y_true[random_indices]\n",
    "        \n",
    "        for j in range(0,total_samples,batch_size):\n",
    "            Xj = X_tmp[j:j+batch_size]\n",
    "            yj = y_tmp[j:j+batch_size]\n",
    "            y_predicted = np.dot(w, Xj.T) + b\n",
    "            \n",
    "            w_grad = -(2/len(Xj))*(Xj.T.dot(yj-y_predicted))\n",
    "            b_grad = -(2/len(Xj))*np.sum(yj-y_predicted)\n",
    "            \n",
    "            w = w - learning_rate * w_grad\n",
    "            b = b - learning_rate * b_grad\n",
    "                \n",
    "            cost = np.mean(np.square(yj-y_predicted)) # MSE (Mean Squared Error)\n",
    "        \n",
    "        if i%10==0:\n",
    "            cost_list.append(cost)\n",
    "            epoch_list.append(i)\n",
    "        \n",
    "    return w, b, cost, cost_list, epoch_list\n",
    "w, b, cost, cost_list, epoch_list = mini_batch_gradient_descent(\n",
    "    scaled_X,\n",
    "    scaled_y.reshape(scaled_y.shape[0],),\n",
    "    epochs = 120,\n",
    "    batch_size = 5\n",
    ")\n",
    "w, b, cost"
   ]
  },
  {
   "cell_type": "code",
   "execution_count": 11,
   "id": "530183d4",
   "metadata": {},
   "outputs": [
    {
     "data": {
      "text/plain": [
       "[<matplotlib.lines.Line2D at 0x164c65e8be0>]"
      ]
     },
     "execution_count": 11,
     "metadata": {},
     "output_type": "execute_result"
    },
    {
     "data": {
      "image/png": "[encoded data removed]",
      "text/plain": [
       "<Figure size 432x288 with 1 Axes>"
      ]
     },
     "metadata": {
      "needs_background": "light"
     },
     "output_type": "display_data"
    }
   ],
   "source": [
    "plt.xlabel(\"epoch\")\n",
    "plt.ylabel(\"cost\")\n",
    "plt.plot(epoch_list,cost_list)"
   ]
  },
  {
   "cell_type": "code",
   "execution_count": 13,
   "id": "be897bcb",
   "metadata": {},
   "outputs": [
    {
     "data": {
      "text/plain": [
       "128.64744069642128"
      ]
     },
     "execution_count": 13,
     "metadata": {},
     "output_type": "execute_result"
    }
   ],
   "source": [
    "def predict(area,bedrooms,w,b):\n",
    "    scaled_X = sx.transform([[area, bedrooms]])[0]\n",
    "    # here w1 = w[0] , w2 = w[1], w3 = w[2] and bias is b\n",
    "    # equation for price is w1*area + w2*bedrooms + w3*age + bias\n",
    "    # scaled_X[0] is area\n",
    "    # scaled_X[1] is bedrooms\n",
    "    # scaled_X[2] is age\n",
    "    scaled_price = w[0] * scaled_X[0] + w[1] * scaled_X[1] + b\n",
    "    # once we get price prediction we need to to rescal it back to original value\n",
    "    # also since it returns 2D array, to get single value we need to do value[0][0]\n",
    "    return sy.inverse_transform([[scaled_price]])[0][0]\n",
    "\n",
    "predict(2600,4,w,b)"
   ]
  },
  {
   "cell_type": "code",
   "execution_count": 14,
   "id": "ca2e650b",
   "metadata": {},
   "outputs": [
    {
     "data": {
      "text/plain": [
       "31.8532789630599"
      ]
     },
     "execution_count": 14,
     "metadata": {},
     "output_type": "execute_result"
    }
   ],
   "source": [
    "predict(1056,2,w,b)"
   ]
  },
  {
   "cell_type": "code",
   "execution_count": 15,
   "id": "599a10ad",
   "metadata": {},
   "outputs": [
    {
     "data": {
      "text/plain": [
       "69.41090817926714"
      ]
     },
     "execution_count": 15,
     "metadata": {},
     "output_type": "execute_result"
    }
   ],
   "source": [
    "predict(1500,3,w,b)"
   ]
  },
  {
   "cell_type": "code",
   "execution_count": 76,
   "id": "6bdbb3cb",
   "metadata": {},
   "outputs": [
    {
     "name": "stdout",
     "output_type": "stream",
     "text": [
      "Print X\n",
      "[[0.08827586 0.25      ]\n",
      " [0.62068966 0.75      ]\n",
      " [0.22068966 0.5       ]\n",
      " [0.24862069 0.5       ]\n",
      " [0.13793103 0.25      ]\n",
      " [0.12758621 0.25      ]\n",
      " [0.6662069  0.75      ]\n",
      " [0.86206897 0.75      ]\n",
      " [0.17586207 0.5       ]\n",
      " [1.         1.        ]\n",
      " [0.34482759 0.5       ]\n",
      " [0.68448276 0.75      ]\n",
      " [0.06896552 0.25      ]\n",
      " [0.10344828 0.25      ]\n",
      " [0.5        0.5       ]\n",
      " [0.12931034 0.25      ]\n",
      " [0.13103448 0.5       ]\n",
      " [0.25517241 0.5       ]\n",
      " [0.67931034 0.5       ]\n",
      " [0.         0.        ]]\n",
      "\n",
      "\n",
      "random_indices\n",
      "[ 2 12  9 18  4  6  1 15 13 16  5 10 17 14  8  3 19  7 11  0]\n",
      "\n",
      "\n",
      "X_tmp\n",
      "[[0.22068966 0.5       ]\n",
      " [0.06896552 0.25      ]\n",
      " [1.         1.        ]\n",
      " [0.67931034 0.5       ]\n",
      " [0.13793103 0.25      ]\n",
      " [0.6662069  0.75      ]\n",
      " [0.62068966 0.75      ]\n",
      " [0.12931034 0.25      ]\n",
      " [0.10344828 0.25      ]\n",
      " [0.13103448 0.5       ]\n",
      " [0.12758621 0.25      ]\n",
      " [0.34482759 0.5       ]\n",
      " [0.25517241 0.5       ]\n",
      " [0.5        0.5       ]\n",
      " [0.17586207 0.5       ]\n",
      " [0.24862069 0.5       ]\n",
      " [0.         0.        ]\n",
      " [0.86206897 0.75      ]\n",
      " [0.68448276 0.75      ]\n",
      " [0.08827586 0.25      ]]\n",
      "\n",
      "\n",
      "j\n",
      "0\n",
      "j+batch_size\n",
      "5\n",
      "Xj\n",
      "[[0.22068966 0.5       ]\n",
      " [0.06896552 0.25      ]\n",
      " [1.         1.        ]\n",
      " [0.67931034 0.5       ]\n",
      " [0.13793103 0.25      ]]\n",
      "j\n",
      "5\n",
      "j+batch_size\n",
      "10\n",
      "Xj\n",
      "[[0.6662069  0.75      ]\n",
      " [0.62068966 0.75      ]\n",
      " [0.12931034 0.25      ]\n",
      " [0.10344828 0.25      ]\n",
      " [0.13103448 0.5       ]]\n",
      "j\n",
      "10\n",
      "j+batch_size\n",
      "15\n",
      "Xj\n",
      "[[0.12758621 0.25      ]\n",
      " [0.34482759 0.5       ]\n",
      " [0.25517241 0.5       ]\n",
      " [0.5        0.5       ]\n",
      " [0.17586207 0.5       ]]\n",
      "j\n",
      "15\n",
      "j+batch_size\n",
      "20\n",
      "Xj\n",
      "[[0.24862069 0.5       ]\n",
      " [0.         0.        ]\n",
      " [0.86206897 0.75      ]\n",
      " [0.68448276 0.75      ]\n",
      " [0.08827586 0.25      ]]\n"
     ]
    }
   ],
   "source": [
    "X= scaled_X\n",
    "y_true = scaled_y.reshape(scaled_y.shape[0],)\n",
    "batch_size = 5\n",
    "\n",
    "print('Print X')\n",
    "print(X) \n",
    "print('\\n') \n",
    "random_indices = np.random.permutation(20)\n",
    "\n",
    "print('random_indices')\n",
    "print(random_indices) \n",
    "\n",
    "print('\\n') \n",
    "\n",
    "X_tmp = X[random_indices]\n",
    "print('X_tmp') \n",
    "\n",
    "print(X_tmp)\n",
    "print('\\n') \n",
    "y_tmp = y_true[random_indices]\n",
    "\n",
    "for j in range(0,20,5):\n",
    "    print('j')\n",
    "    print(j)\n",
    "    print('j+batch_size')\n",
    "    print(j+batch_size)\n",
    "    Xj = X_tmp[j:j+batch_size]\n",
    "    yj = y_tmp[j:j+batch_size]\n",
    "\n",
    "    print('Xj')\n",
    "    print(Xj)\n",
    "      \n",
    " \n",
    "    \n",
    "     \n",
    "\n",
    "   "
   ]
  },
  {
   "cell_type": "code",
   "execution_count": null,
   "id": "7ab38aa4",
   "metadata": {},
   "outputs": [],
   "source": []
  }
 ],
 "metadata": {
  "kernelspec": {
   "display_name": "Python 3 (ipykernel)",
   "language": "python",
   "name": "python3"
  },
  "language_info": {
   "codemirror_mode": {
    "name": "ipython",
    "version": 3
   },
   "file_extension": ".py",
   "mimetype": "text/x-python",
   "name": "python",
   "nbconvert_exporter": "python",
   "pygments_lexer": "ipython3",
   "version": "3.9.7"
  }
 },
 "nbformat": 4,
 "nbformat_minor": 5
}
